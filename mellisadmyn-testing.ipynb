{
 "cells": [
  {
   "cell_type": "markdown",
   "metadata": {},
   "source": [
    "# Import"
   ]
  },
  {
   "cell_type": "code",
   "execution_count": 41,
   "metadata": {},
   "outputs": [],
   "source": [
    "import tensorflow as tf\n",
    "import requests\n",
    "import json\n",
    "import base64\n",
    "import pandas as pd"
   ]
  },
  {
   "cell_type": "markdown",
   "metadata": {},
   "source": [
    "# Testing prediction"
   ]
  },
  {
   "cell_type": "markdown",
   "metadata": {},
   "source": [
    "Pertama, load dummy data yang akan dilakukan prediksi"
   ]
  },
  {
   "cell_type": "code",
   "execution_count": 23,
   "metadata": {},
   "outputs": [
    {
     "data": {
      "text/html": [
       "<div>\n",
       "<style scoped>\n",
       "    .dataframe tbody tr th:only-of-type {\n",
       "        vertical-align: middle;\n",
       "    }\n",
       "\n",
       "    .dataframe tbody tr th {\n",
       "        vertical-align: top;\n",
       "    }\n",
       "\n",
       "    .dataframe thead th {\n",
       "        text-align: right;\n",
       "    }\n",
       "</style>\n",
       "<table border=\"1\" class=\"dataframe\">\n",
       "  <thead>\n",
       "    <tr style=\"text-align: right;\">\n",
       "      <th></th>\n",
       "      <th>OverTime</th>\n",
       "      <th>MaritalStatus</th>\n",
       "      <th>TotalWorkingYears</th>\n",
       "      <th>Age</th>\n",
       "      <th>MonthlyIncome</th>\n",
       "      <th>JobRole</th>\n",
       "      <th>Department</th>\n",
       "    </tr>\n",
       "  </thead>\n",
       "  <tbody>\n",
       "    <tr>\n",
       "      <th>0</th>\n",
       "      <td>No</td>\n",
       "      <td>Married</td>\n",
       "      <td>15</td>\n",
       "      <td>37</td>\n",
       "      <td>4777</td>\n",
       "      <td>Healthcare Representative</td>\n",
       "      <td>Research &amp; Development</td>\n",
       "    </tr>\n",
       "    <tr>\n",
       "      <th>1</th>\n",
       "      <td>Yes</td>\n",
       "      <td>Married</td>\n",
       "      <td>18</td>\n",
       "      <td>51</td>\n",
       "      <td>2461</td>\n",
       "      <td>Research Scientist</td>\n",
       "      <td>Research &amp; Development</td>\n",
       "    </tr>\n",
       "  </tbody>\n",
       "</table>\n",
       "</div>"
      ],
      "text/plain": [
       "  OverTime MaritalStatus  TotalWorkingYears  Age  MonthlyIncome  \\\n",
       "0       No       Married                 15   37           4777   \n",
       "1      Yes       Married                 18   51           2461   \n",
       "\n",
       "                     JobRole              Department  \n",
       "0  Healthcare Representative  Research & Development  \n",
       "1         Research Scientist  Research & Development  "
      ]
     },
     "execution_count": 23,
     "metadata": {},
     "output_type": "execute_result"
    }
   ],
   "source": [
    "data = pd.read_csv('dummy_data/testing.csv')\n",
    "data"
   ]
  },
  {
   "cell_type": "code",
   "execution_count": 26,
   "metadata": {},
   "outputs": [
    {
     "data": {
      "text/plain": [
       "{'OverTime': 'No',\n",
       " 'MaritalStatus': 'Married',\n",
       " 'TotalWorkingYears': 15,\n",
       " 'Age': 37,\n",
       " 'MonthlyIncome': 4777,\n",
       " 'JobRole': 'Healthcare Representative',\n",
       " 'Department': 'Research & Development'}"
      ]
     },
     "execution_count": 26,
     "metadata": {},
     "output_type": "execute_result"
    }
   ],
   "source": [
    "# Mengambil input pertama untuk prediksi\n",
    "inputs = data.iloc[0, :7].to_dict()  # Mengambil fitur hingga kolom ke-7\n",
    "inputs"
   ]
  },
  {
   "cell_type": "markdown",
   "metadata": {},
   "source": [
    "Lalu, menyiapkan input JSON yang sesuai dengan skema model"
   ]
  },
  {
   "cell_type": "code",
   "execution_count": 27,
   "metadata": {},
   "outputs": [],
   "source": [
    "# Fungsi untuk menyiapkan data input\n",
    "def prepare_json(inputs: dict):\n",
    "    # Mapping fitur ke TensorFlow Feature\n",
    "    feature_mapping = {\n",
    "        \"OverTime\": tf.train.Feature(bytes_list=tf.train.BytesList(value=[inputs['OverTime'].encode()])),\n",
    "        \"MaritalStatus\": tf.train.Feature(bytes_list=tf.train.BytesList(value=[inputs['MaritalStatus'].encode()])),\n",
    "        \"TotalWorkingYears\": tf.train.Feature(int64_list=tf.train.Int64List(value=[int(inputs['TotalWorkingYears'])])),\n",
    "        \"Age\": tf.train.Feature(int64_list=tf.train.Int64List(value=[int(inputs['Age'])])),\n",
    "        \"MonthlyIncome\": tf.train.Feature(int64_list=tf.train.Int64List(value=[int(inputs['MonthlyIncome'])])),\n",
    "        \"JobRole\": tf.train.Feature(bytes_list=tf.train.BytesList(value=[inputs['JobRole'].encode()])),\n",
    "        \"Department\": tf.train.Feature(bytes_list=tf.train.BytesList(value=[inputs['Department'].encode()])),\n",
    "    }\n",
    "\n",
    "    # Membuat TensorFlow Example\n",
    "    example = tf.train.Example(\n",
    "        features=tf.train.Features(feature=feature_mapping)\n",
    "    ).SerializeToString()\n",
    "\n",
    "    # Melakukan encode Example ke base64\n",
    "    result = {\n",
    "        \"examples\": {\n",
    "            \"b64\": base64.b64encode(example).decode()\n",
    "        }\n",
    "    }\n",
    "\n",
    "    # Mengembalikan data dalam format JSON\n",
    "    return json.dumps({\n",
    "        \"signature_name\": \"serving_default\",\n",
    "        \"instances\": [result],\n",
    "    })\n"
   ]
  },
  {
   "cell_type": "markdown",
   "metadata": {},
   "source": [
    "Membuat fungsi untuk melakukan prediksi"
   ]
  },
  {
   "cell_type": "code",
   "execution_count": 28,
   "metadata": {},
   "outputs": [],
   "source": [
    "# Fungsi untuk memprediksi data\n",
    "def predict(inputs):\n",
    "    json_data = prepare_json(inputs)\n",
    "\n",
    "    # URL endpoint REST API model\n",
    "    endpoint = \"https://tfx-mlops-project-production.up.railway.app/v1/models/attrition-model:predict\"  # Ganti URL dengan endpoint API Anda\n",
    "\n",
    "    # Mengirim request ke endpoint\n",
    "    response = requests.post(endpoint, data=json_data)\n",
    "\n",
    "    # Periksa apakah respons berhasil (HTTP status code 200)\n",
    "    if response.status_code != 200:\n",
    "        return f\"Error: API response status code {response.status_code}. Response: {response.text}\"\n",
    "\n",
    "    # Parsing hasil prediksi\n",
    "    response_json = response.json()\n",
    "    prediction = response_json.get(\"predictions\")\n",
    "\n",
    "    # Periksa apakah kunci \"predictions\" ada di respons\n",
    "    if prediction is None:\n",
    "        return f\"Error: No 'predictions' key found in the response. Full Response: {response_json}\"\n",
    "\n",
    "    # Mengambil prediksi pertama\n",
    "    prediction_value = prediction[0][0]\n",
    "    if prediction_value > 0.5:\n",
    "        result = \"Label 1 (Attrition: Yes)\"\n",
    "    else:\n",
    "        result = \"Label 0 (Attrition: No)\"\n",
    "    \n",
    "    return result\n"
   ]
  },
  {
   "cell_type": "markdown",
   "metadata": {},
   "source": [
    "Prediksi dummy data no 1"
   ]
  },
  {
   "cell_type": "code",
   "execution_count": 39,
   "metadata": {},
   "outputs": [
    {
     "name": "stdout",
     "output_type": "stream",
     "text": [
      "Label 0 (Attrition: No)\n"
     ]
    }
   ],
   "source": [
    "# Predict data\n",
    "inputs = data.iloc[0, :7].to_dict()\n",
    "print(predict(inputs))"
   ]
  },
  {
   "cell_type": "markdown",
   "metadata": {},
   "source": [
    "Prediksi dummy data no 2"
   ]
  },
  {
   "cell_type": "code",
   "execution_count": 42,
   "metadata": {},
   "outputs": [
    {
     "name": "stdout",
     "output_type": "stream",
     "text": [
      "Label 1 (Attrition: Yes)\n"
     ]
    }
   ],
   "source": [
    "# Predict data\n",
    "inputs = data.iloc[1, :7].to_dict()\n",
    "print(predict(inputs))\n"
   ]
  }
 ],
 "metadata": {
  "kernelspec": {
   "display_name": "tfx-mlops",
   "language": "python",
   "name": "python3"
  },
  "language_info": {
   "codemirror_mode": {
    "name": "ipython",
    "version": 3
   },
   "file_extension": ".py",
   "mimetype": "text/x-python",
   "name": "python",
   "nbconvert_exporter": "python",
   "pygments_lexer": "ipython3",
   "version": "3.9.15"
  },
  "orig_nbformat": 4
 },
 "nbformat": 4,
 "nbformat_minor": 2
}
